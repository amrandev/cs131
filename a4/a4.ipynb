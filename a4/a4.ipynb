{
 "cells": [
  {
   "cell_type": "code",
   "execution_count": 23,
   "id": "df99a09a-81f1-4feb-ac9f-dd0991f41c94",
   "metadata": {},
   "outputs": [],
   "source": [
    "from pyspark.sql import SparkSession\n",
    "spark = SparkSession.builder.appName(\"cs131_a4\").getOrCreate()"
   ]
  },
  {
   "cell_type": "code",
   "execution_count": 25,
   "id": "9a4acc8e-59de-466b-a60a-d523c983d7af",
   "metadata": {},
   "outputs": [
    {
     "name": "stdout",
     "output_type": "stream",
     "text": [
      "+---------------+------------+------------+------------+\n",
      "|passenger_count|PULocationID|DOLocationID|total_amount|\n",
      "+---------------+------------+------------+------------+\n",
      "|            1.0|       151.0|       239.0|        9.95|\n",
      "|            1.0|       239.0|       246.0|        16.3|\n",
      "|            3.0|       236.0|       236.0|         5.8|\n",
      "|            5.0|       193.0|       193.0|        7.55|\n",
      "|            5.0|       193.0|       193.0|       55.55|\n",
      "|            5.0|       193.0|       193.0|       13.31|\n",
      "|            5.0|       193.0|       193.0|       55.55|\n",
      "|            1.0|       163.0|       229.0|        9.05|\n",
      "|            1.0|       229.0|         7.0|        18.5|\n",
      "|            2.0|       141.0|       234.0|        13.0|\n",
      "+---------------+------------+------------+------------+\n",
      "only showing top 10 rows\n",
      "\n"
     ]
    }
   ],
   "source": [
    "df_raw = (spark.read\n",
    "          .csv(\"2019-01-h1.csv\", header=True, inferSchema=True))\n",
    "\n",
    "cols = [\"passenger_count\", \"PULocationID\", \"DOLocationID\", \"total_amount\"]\n",
    "taxiDF = df_raw.select(*cols)\n",
    "taxiDF.show(10)   "
   ]
  },
  {
   "cell_type": "code",
   "execution_count": 26,
   "id": "79432430-105c-4696-b114-8487124e370c",
   "metadata": {},
   "outputs": [
    {
     "name": "stdout",
     "output_type": "stream",
     "text": [
      "+--------+--------------------+---------------------+---------------+-------------+----------+------------------+------------+------------+------------+-----------+-----+-------+----------+------------+---------------------+------------+--------------------+\n",
      "|vendorid|tpep_pickup_datetime|tpep_dropoff_datetime|passenger_count|trip_distance|ratecodeid|store_and_fwd_flag|pulocationid|dolocationid|payment_type|fare_amount|extra|mta_tax|tip_amount|tolls_amount|improvement_surcharge|total_amount|congestion_surcharge|\n",
      "+--------+--------------------+---------------------+---------------+-------------+----------+------------------+------------+------------+------------+-----------+-----+-------+----------+------------+---------------------+------------+--------------------+\n",
      "|     1.0| 2019-01-01 00:46:40|  2019-01-01 00:53:20|            1.0|          1.5|       1.0|                 N|       151.0|       239.0|         1.0|        7.0|  0.5|    0.5|      1.65|         0.0|                  0.3|        9.95|                NULL|\n",
      "|     1.0| 2019-01-01 00:59:47|  2019-01-01 01:18:59|            1.0|          2.6|       1.0|                 N|       239.0|       246.0|         1.0|       14.0|  0.5|    0.5|       1.0|         0.0|                  0.3|        16.3|                NULL|\n",
      "|     2.0| 2018-12-21 13:48:30|  2018-12-21 13:52:40|            3.0|          0.0|       1.0|                 N|       236.0|       236.0|         1.0|        4.5|  0.5|    0.5|       0.0|         0.0|                  0.3|         5.8|                NULL|\n",
      "|     2.0| 2018-11-28 15:52:25|  2018-11-28 15:55:45|            5.0|          0.0|       1.0|                 N|       193.0|       193.0|         2.0|        3.5|  0.5|    0.5|       0.0|         0.0|                  0.3|        7.55|                NULL|\n",
      "|     2.0| 2018-11-28 15:56:57|  2018-11-28 15:58:33|            5.0|          0.0|       2.0|                 N|       193.0|       193.0|         2.0|       52.0|  0.0|    0.5|       0.0|         0.0|                  0.3|       55.55|                NULL|\n",
      "|     2.0| 2018-11-28 16:25:49|  2018-11-28 16:28:26|            5.0|          0.0|       1.0|                 N|       193.0|       193.0|         2.0|        3.5|  0.5|    0.5|       0.0|        5.76|                  0.3|       13.31|                NULL|\n",
      "|     2.0| 2018-11-28 16:29:37|  2018-11-28 16:33:43|            5.0|          0.0|       2.0|                 N|       193.0|       193.0|         2.0|       52.0|  0.0|    0.5|       0.0|         0.0|                  0.3|       55.55|                NULL|\n",
      "|     1.0| 2019-01-01 00:21:28|  2019-01-01 00:28:37|            1.0|          1.3|       1.0|                 N|       163.0|       229.0|         1.0|        6.5|  0.5|    0.5|      1.25|         0.0|                  0.3|        9.05|                NULL|\n",
      "|     1.0| 2019-01-01 00:32:01|  2019-01-01 00:45:39|            1.0|          3.7|       1.0|                 N|       229.0|         7.0|         1.0|       13.5|  0.5|    0.5|       3.7|         0.0|                  0.3|        18.5|                NULL|\n",
      "|     1.0| 2019-01-01 00:57:32|  2019-01-01 01:09:32|            2.0|          2.1|       1.0|                 N|       141.0|       234.0|         1.0|       10.0|  0.5|    0.5|       1.7|         0.0|                  0.3|        13.0|                NULL|\n",
      "|     1.0| 2019-01-01 00:24:04|  2019-01-01 00:47:06|            2.0|          2.8|       1.0|                 N|       246.0|       162.0|         1.0|       15.0|  0.5|    0.5|      3.25|         0.0|                  0.3|       19.55|                NULL|\n",
      "|     1.0| 2019-01-01 00:21:59|  2019-01-01 00:28:24|            1.0|          0.7|       1.0|                 N|       238.0|       151.0|         1.0|        5.5|  0.5|    0.5|       1.7|         0.0|                  0.3|         8.5|                NULL|\n",
      "|     1.0| 2019-01-01 00:45:21|  2019-01-01 01:31:05|            1.0|          8.7|       1.0|                 N|       163.0|        25.0|         1.0|       34.5|  0.5|    0.5|      7.15|         0.0|                  0.3|       42.95|                NULL|\n",
      "|     1.0| 2019-01-01 00:43:19|  2019-01-01 01:07:42|            1.0|          6.3|       1.0|                 N|       224.0|        25.0|         1.0|       21.5|  0.5|    0.5|       5.7|         0.0|                  0.3|        28.5|                NULL|\n",
      "|     1.0| 2019-01-01 00:58:24|  2019-01-01 01:15:18|            1.0|          2.7|       1.0|                 N|       141.0|       234.0|         1.0|       13.0|  0.5|    0.5|       1.0|         0.0|                  0.3|        15.3|                NULL|\n",
      "|     2.0| 2019-01-01 00:23:14|  2019-01-01 00:25:40|            1.0|         0.38|       1.0|                 N|       170.0|       170.0|         2.0|        3.5|  0.5|    0.5|       0.0|         0.0|                  0.3|         4.8|                NULL|\n",
      "|     2.0| 2019-01-01 00:39:51|  2019-01-01 00:48:02|            1.0|         0.55|       1.0|                 N|       170.0|       170.0|         1.0|        6.5|  0.5|    0.5|      1.95|         0.0|                  0.3|        9.75|                NULL|\n",
      "|     2.0| 2019-01-01 00:46:00|  2019-01-01 00:49:07|            1.0|          0.3|       1.0|                 N|       107.0|       107.0|         1.0|        4.0|  0.5|    0.5|      1.06|         0.0|                  0.3|        6.36|                NULL|\n",
      "|     2.0| 2019-01-01 00:57:45|  2019-01-01 01:03:51|            1.0|         1.42|       1.0|                 N|       170.0|       141.0|         1.0|        6.5|  0.5|    0.5|      1.56|         0.0|                  0.3|        9.36|                NULL|\n",
      "|     2.0| 2019-01-01 00:16:16|  2019-01-01 00:25:57|            1.0|         1.72|       1.0|                 N|        41.0|       247.0|         2.0|        9.0|  0.5|    0.5|       0.0|         0.0|                  0.3|        10.3|                NULL|\n",
      "+--------+--------------------+---------------------+---------------+-------------+----------+------------------+------------+------------+------------+-----------+-----+-------+----------+------------+---------------------+------------+--------------------+\n",
      "only showing top 20 rows\n",
      "\n"
     ]
    }
   ],
   "source": [
    "df_raw.show()"
   ]
  },
  {
   "cell_type": "code",
   "execution_count": 27,
   "id": "d2e97b52-13e8-485b-88e7-ab7a5af0384b",
   "metadata": {},
   "outputs": [
    {
     "name": "stdout",
     "output_type": "stream",
     "text": [
      "Rows for train: 2921462  Rows for test: 729537\n"
     ]
    }
   ],
   "source": [
    "trainDF, testDF = taxiDF.randomSplit([0.8, 0.2], seed=42)\n",
    "print(\"Rows for train:\", trainDF.count(), \" Rows for test:\", testDF.count())"
   ]
  },
  {
   "cell_type": "code",
   "execution_count": 28,
   "id": "aa97d90a-d1fc-4efa-9a78-c2a1692e7df7",
   "metadata": {},
   "outputs": [],
   "source": [
    "from pyspark.ml.feature import VectorAssembler\n",
    "from pyspark.ml.regression import DecisionTreeRegressor\n",
    "from pyspark.ml import Pipeline\n",
    "from pyspark.ml.evaluation import RegressionEvaluator\n",
    "\n",
    "assembler = VectorAssembler(\n",
    "    inputCols=[\"passenger_count\", \"PULocationID\", \"DOLocationID\"],\n",
    "    outputCol=\"features\")\n",
    "\n",
    "dtr = (DecisionTreeRegressor(labelCol=\"total_amount\",\n",
    "                             featuresCol=\"features\")\n",
    "       .setMaxBins(512))                # avoids category overflow\n",
    "\n",
    "pipeline = Pipeline(stages=[assembler, dtr])"
   ]
  },
  {
   "cell_type": "code",
   "execution_count": 29,
   "id": "a7964cf0-57d4-4cb0-9919-1fb47c11d3ac",
   "metadata": {},
   "outputs": [
    {
     "name": "stdout",
     "output_type": "stream",
     "text": [
      "+---------------+------------+------------+------------------+\n",
      "|passenger_count|PULocationID|DOLocationID|        prediction|\n",
      "+---------------+------------+------------+------------------+\n",
      "|            0.0|         4.0|         4.0|17.922369380316045|\n",
      "|            0.0|         4.0|        79.0|17.922369380316045|\n",
      "|            0.0|         4.0|        90.0|17.922369380316045|\n",
      "|            0.0|         4.0|       170.0|17.922369380316045|\n",
      "|            0.0|         7.0|         7.0|17.922369380316045|\n",
      "|            0.0|         7.0|        48.0|17.922369380316045|\n",
      "|            0.0|         7.0|       164.0|17.922369380316045|\n",
      "|            0.0|         9.0|        73.0|17.922369380316045|\n",
      "|            0.0|        13.0|        13.0|17.922369380316045|\n",
      "|            0.0|        13.0|        13.0|17.922369380316045|\n",
      "+---------------+------------+------------+------------------+\n",
      "only showing top 10 rows\n",
      "\n",
      "RMSE = 24.01571105495559\n"
     ]
    }
   ],
   "source": [
    "model = pipeline.fit(trainDF)\n",
    "predDF = model.transform(testDF)\n",
    "predDF.select(\"passenger_count\", \"PULocationID\", \"DOLocationID\", \"prediction\") \\\n",
    "      .show(10)\n",
    "\n",
    "rmse = (RegressionEvaluator(labelCol=\"total_amount\",\n",
    "                            predictionCol=\"prediction\",\n",
    "                            metricName=\"rmse\")\n",
    "        .evaluate(predDF))\n",
    "print(\"RMSE =\", rmse)\n",
    "spark.stop()"
   ]
  }
 ],
 "metadata": {
  "kernelspec": {
   "display_name": "Python 3 (ipykernel)",
   "language": "python",
   "name": "python3"
  },
  "language_info": {
   "codemirror_mode": {
    "name": "ipython",
    "version": 3
   },
   "file_extension": ".py",
   "mimetype": "text/x-python",
   "name": "python",
   "nbconvert_exporter": "python",
   "pygments_lexer": "ipython3",
   "version": "3.11.6"
  }
 },
 "nbformat": 4,
 "nbformat_minor": 5
}
